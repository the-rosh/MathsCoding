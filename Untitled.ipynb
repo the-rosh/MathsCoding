{
 "cells": [
  {
   "cell_type": "code",
   "execution_count": 1,
   "id": "025e0acc-622d-42e4-bb30-bfee6710cb68",
   "metadata": {},
   "outputs": [],
   "source": [
    "import math"
   ]
  },
  {
   "cell_type": "code",
   "execution_count": 8,
   "id": "3087659c-fd62-4198-bcd2-89a4d14cbc6f",
   "metadata": {},
   "outputs": [
    {
     "name": "stdout",
     "output_type": "stream",
     "text": [
      "1\n"
     ]
    }
   ],
   "source": [
    "def find_slope(x1,x2,y1,y2):\n",
    "    m = (y2-y1)/(x2-x1)\n",
    "    return int(m)\n",
    "\n",
    "\n",
    "slope = find_slope(2,3,4,5)\n",
    "print(slope)"
   ]
  },
  {
   "cell_type": "code",
   "execution_count": null,
   "id": "b877e683-4603-4568-a06c-715353e2c3de",
   "metadata": {},
   "outputs": [],
   "source": []
  }
 ],
 "metadata": {
  "kernelspec": {
   "display_name": "Python 3 (ipykernel)",
   "language": "python",
   "name": "python3"
  },
  "language_info": {
   "codemirror_mode": {
    "name": "ipython",
    "version": 3
   },
   "file_extension": ".py",
   "mimetype": "text/x-python",
   "name": "python",
   "nbconvert_exporter": "python",
   "pygments_lexer": "ipython3",
   "version": "3.11.5"
  }
 },
 "nbformat": 4,
 "nbformat_minor": 5
}
